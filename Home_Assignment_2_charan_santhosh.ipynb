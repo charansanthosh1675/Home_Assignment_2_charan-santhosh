{
  "nbformat": 4,
  "nbformat_minor": 0,
  "metadata": {
    "colab": {
      "provenance": [],
      "authorship_tag": "ABX9TyMIb1ugAMXddRUPNHeJjfEq",
      "include_colab_link": true
    },
    "kernelspec": {
      "name": "python3",
      "display_name": "Python 3"
    },
    "language_info": {
      "name": "python"
    }
  },
  "cells": [
    {
      "cell_type": "markdown",
      "metadata": {
        "id": "view-in-github",
        "colab_type": "text"
      },
      "source": [
        "<a href=\"https://colab.research.google.com/github/charansanthosh1675/Home_Assignment_2_charan-santhosh/blob/main/Home_Assignment_2_charan_santhosh.ipynb\" target=\"_parent\"><img src=\"https://colab.research.google.com/assets/colab-badge.svg\" alt=\"Open In Colab\"/></a>"
      ]
    },
    {
      "cell_type": "code",
      "execution_count": 18,
      "metadata": {
        "colab": {
          "base_uri": "https://localhost:8080/"
        },
        "id": "bMNTNnIfqqEI",
        "outputId": "80ac58ab-a0e1-436b-c79a-536cac0c4cbe"
      },
      "outputs": [
        {
          "output_type": "stream",
          "name": "stdout",
          "text": [
            "Stride=1, Padding='VALID':\n",
            " [[0. 0. 0.]\n",
            " [0. 0. 0.]\n",
            " [0. 0. 0.]]\n",
            "\n",
            "Stride=1, Padding='SAME':\n",
            " [[  4.   3.   2.   1.  -6.]\n",
            " [ -5.   0.   0.   0. -11.]\n",
            " [-10.   0.   0.   0. -16.]\n",
            " [-15.   0.   0.   0. -21.]\n",
            " [-46. -27. -28. -29. -56.]]\n",
            "\n",
            "Stride=2, Padding='VALID':\n",
            " [[0. 0.]\n",
            " [0. 0.]]\n",
            "\n",
            "Stride=2, Padding='SAME':\n",
            " [[  4.   2.  -6.]\n",
            " [-10.   0. -16.]\n",
            " [-46. -28. -56.]]\n"
          ]
        }
      ],
      "source": [
        "# ------------------------------------------------------\n",
        "# CS5720 - Home Assignment 2\n",
        "# name: gudiseva charan santhosh\n",
        "# student id : 700776700\n",
        "# University of Central Missouri\n",
        "# ------------------------------------------------------\n",
        "\n",
        "# ------------------------------------------------------\n",
        "# Question 1\n",
        "# ------------------------------------------------------\n",
        "\n",
        "import tensorflow as tf\n",
        "import numpy as np\n",
        "\n",
        "# ------------------------------------------------------\n",
        "# Step 1: Define 5x5 input matrix\n",
        "# ------------------------------------------------------\n",
        "\n",
        "input_matrix = np.array([\n",
        "    [1, 2, 3, 4, 5],\n",
        "    [6, 7, 8, 9, 10],\n",
        "    [11, 12, 13, 14, 15],\n",
        "    [16, 17, 18, 19, 20],\n",
        "    [21, 22, 23, 24, 25]\n",
        "], dtype=np.float32)\n",
        "\n",
        "# ------------------------------------------------------\n",
        "# Step 2: Define 3x3 kernel\n",
        "# ------------------------------------------------------\n",
        "\n",
        "kernel = np.array([\n",
        "    [0, 1, 0],\n",
        "    [1, -4, 1],\n",
        "    [0, 1, 0]\n",
        "], dtype=np.float32)\n",
        "\n",
        "# ------------------------------------------------------\n",
        "# Step 3: Reshape input and kernel to match conv2d requirements\n",
        "# ------------------------------------------------------\n",
        "\n",
        "input_tensor = tf.constant(input_matrix.reshape(1, 5, 5, 1))  # shape: [batch, height, width, channels]\n",
        "kernel_tensor = tf.constant(kernel.reshape(3, 3, 1, 1))       # shape: [filter_height, filter_width, in_channels, out_channels]\n",
        "\n",
        "# ------------------------------------------------------\n",
        "# Function to perform convolution\n",
        "# ------------------------------------------------------\n",
        "\n",
        "def apply_convolution(stride, padding):\n",
        "    output = tf.nn.conv2d(input_tensor, kernel_tensor, strides=[1, stride, stride, 1], padding=padding)\n",
        "    return tf.squeeze(output)\n",
        "\n",
        "# ------------------------------------------------------\n",
        "# Step 4: Run all variations\n",
        "# ------------------------------------------------------\n",
        "\n",
        "print(\"Stride=1, Padding='VALID':\\n\", apply_convolution(1, 'VALID').numpy())\n",
        "print(\"\\nStride=1, Padding='SAME':\\n\", apply_convolution(1, 'SAME').numpy())\n",
        "print(\"\\nStride=2, Padding='VALID':\\n\", apply_convolution(2, 'VALID').numpy())\n",
        "print(\"\\nStride=2, Padding='SAME':\\n\", apply_convolution(2, 'SAME').numpy())\n"
      ]
    },
    {
      "cell_type": "code",
      "source": [
        "# ------------------------------------------------------\n",
        "# Question 2 Task 1\n",
        "# ------------------------------------------------------\n",
        "\n",
        "import numpy as np\n",
        "import cv2\n",
        "import matplotlib.pyplot as plt\n",
        "\n",
        "# ------------------------------------------------------\n",
        "# Sample grayscale image\n",
        "# ------------------------------------------------------\n",
        "\n",
        "image = np.array([\n",
        "    [50, 80, 100, 120],\n",
        "    [90, 110, 130, 140],\n",
        "    [150, 160, 170, 180],\n",
        "    [200, 210, 220, 230]\n",
        "], dtype=np.uint8)\n",
        "\n",
        "# ------------------------------------------------------\n",
        "# Define custom Sobel X and Y filters\n",
        "# ------------------------------------------------------\n",
        "\n",
        "sobel_x_kernel = np.array([\n",
        "    [-1, 0, 1],\n",
        "    [-2, 0, 2],\n",
        "    [-1, 0, 1]\n",
        "], dtype=np.float32)\n",
        "\n",
        "sobel_y_kernel = np.array([\n",
        "    [-1, -2, -1],\n",
        "    [ 0,  0,  0],\n",
        "    [ 1,  2,  1]\n",
        "], dtype=np.float32)\n",
        "\n",
        "# ------------------------------------------------------\n",
        "# Apply the custom filters using cv2.filter2D\n",
        "# ------------------------------------------------------\n",
        "\n",
        "sobel_x = cv2.filter2D(src=image, ddepth=cv2.CV_64F, kernel=sobel_x_kernel)\n",
        "sobel_y = cv2.filter2D(src=image, ddepth=cv2.CV_64F, kernel=sobel_y_kernel)\n",
        "\n",
        "# ------------------------------------------------------\n",
        "# Display the results\n",
        "# ------------------------------------------------------\n",
        "\n",
        "plt.figure(figsize=(12, 3))\n",
        "plt.subplot(1, 3, 1)\n",
        "plt.title(\"Original\")\n",
        "plt.imshow(image, cmap='gray')\n",
        "plt.axis('off')\n",
        "\n",
        "plt.subplot(1, 3, 2)\n",
        "plt.title(\"Sobel X\")\n",
        "plt.imshow(sobel_x, cmap='gray')\n",
        "plt.axis('off')\n",
        "\n",
        "plt.subplot(1, 3, 3)\n",
        "plt.title(\"Sobel Y\")\n",
        "plt.imshow(sobel_y, cmap='gray')\n",
        "plt.axis('off')\n",
        "\n",
        "plt.tight_layout()\n",
        "plt.show()\n"
      ],
      "metadata": {
        "colab": {
          "base_uri": "https://localhost:8080/",
          "height": 307
        },
        "id": "RkEFazGFt76S",
        "outputId": "63fa31d7-15a2-4475-eb13-64dadfd7ee10"
      },
      "execution_count": 19,
      "outputs": [
        {
          "output_type": "display_data",
          "data": {
            "text/plain": [
              "<Figure size 1200x300 with 3 Axes>"
            ],
            "image/png": "[encoded data removed]"
          },
          "metadata": {}
        }
      ]
    },
    {
      "cell_type": "code",
      "source": [
        "# ------------------------------------------------------\n",
        "# Question 2 Task 2\n",
        "# ------------------------------------------------------\n",
        "\n",
        "import tensorflow as tf\n",
        "\n",
        "# ------------------------------------------------------\n",
        "# Create random 4x4 matrix\n",
        "# ------------------------------------------------------\n",
        "\n",
        "input_matrix = tf.constant(np.random.randint(0, 10, (1, 4, 4, 1)), dtype=tf.float32)\n",
        "\n",
        "# ------------------------------------------------------\n",
        "# Apply pooling\n",
        "# max-pooled matrix\n",
        "# ------------------------------------------------------\n",
        "\n",
        "max_pool = tf.nn.max_pool2d(input_matrix, ksize=2, strides=2, padding='VALID')\n",
        "\n",
        "# ------------------------------------------------------\n",
        "# average-pooled matrix\n",
        "# ------------------------------------------------------\n",
        "\n",
        "avg_pool = tf.nn.avg_pool2d(input_matrix, ksize=2, strides=2, padding='VALID')\n",
        "\n",
        "print(\"Original Matrix:\\n\", tf.squeeze(input_matrix).numpy())\n",
        "print(\"\\nMax Pooled:\\n\", tf.squeeze(max_pool).numpy())\n",
        "print(\"\\nAverage Pooled:\\n\", tf.squeeze(avg_pool).numpy())\n"
      ],
      "metadata": {
        "colab": {
          "base_uri": "https://localhost:8080/"
        },
        "id": "AU1CJvdk4rHe",
        "outputId": "cfc5121e-8f76-4cfc-a17d-4c5b97db1e76"
      },
      "execution_count": 23,
      "outputs": [
        {
          "output_type": "stream",
          "name": "stdout",
          "text": [
            "Original Matrix:\n",
            " [[5. 9. 9. 3.]\n",
            " [6. 2. 9. 5.]\n",
            " [8. 9. 8. 3.]\n",
            " [9. 5. 5. 3.]]\n",
            "\n",
            "Max Pooled:\n",
            " [[9. 9.]\n",
            " [9. 8.]]\n",
            "\n",
            "Average Pooled:\n",
            " [[5.5  6.5 ]\n",
            " [7.75 4.75]]\n"
          ]
        }
      ]
    },
    {
      "cell_type": "code",
      "source": [
        "# ------------------------------------------------------\n",
        "# Question 3\n",
        "# ------------------------------------------------------\n",
        "\n",
        "import pandas as pd\n",
        "from sklearn.datasets import load_iris\n",
        "from sklearn.preprocessing import MinMaxScaler, StandardScaler\n",
        "from sklearn.model_selection import train_test_split\n",
        "from sklearn.linear_model import LogisticRegression\n",
        "import matplotlib.pyplot as plt\n",
        "\n",
        "# ------------------------------------------------------\n",
        "# Load Iris dataset\n",
        "# ------------------------------------------------------\n",
        "\n",
        "iris = load_iris()\n",
        "X = iris.data\n",
        "y = iris.target\n",
        "\n",
        "# ------------------------------------------------------\n",
        "# Min-Max Normalization\n",
        "# ------------------------------------------------------\n",
        "\n",
        "minmax = MinMaxScaler()\n",
        "X_minmax = minmax.fit_transform(X)\n",
        "\n",
        "# ------------------------------------------------------\n",
        "# Z-score Standardization\n",
        "# ------------------------------------------------------\n",
        "\n",
        "zscore = StandardScaler()\n",
        "X_zscore = zscore.fit_transform(X)\n",
        "\n",
        "# ------------------------------------------------------\n",
        "# Compare distributions\n",
        "# ------------------------------------------------------\n",
        "\n",
        "plt.figure(figsize=(12, 4))\n",
        "for i in range(4):\n",
        "    plt.subplot(1, 4, i+1)\n",
        "    plt.hist(X_minmax[:, i], bins=10, alpha=0.7, label='MinMax')\n",
        "    plt.hist(X_zscore[:, i], bins=10, alpha=0.7, label='Z-score')\n",
        "    plt.title(f'Feature {i}')\n",
        "    plt.legend()\n",
        "plt.tight_layout()\n",
        "plt.show()\n",
        "\n",
        "# ------------------------------------------------------\n",
        "# Logistic Regression - Raw\n",
        "# ------------------------------------------------------\n",
        "\n",
        "X_train, X_test, y_train, y_test = train_test_split(X, y, random_state=42)\n",
        "model_raw = LogisticRegression(max_iter=200)\n",
        "model_raw.fit(X_train, y_train)\n",
        "print(\"Raw Accuracy:\", model_raw.score(X_test, y_test))\n",
        "\n",
        "# ------------------------------------------------------\n",
        "# Logistic Regression - MinMax\n",
        "# ------------------------------------------------------\n",
        "\n",
        "X_train, X_test, y_train, y_test = train_test_split(X_minmax, y, random_state=42)\n",
        "model_norm = LogisticRegression(max_iter=200)\n",
        "model_norm.fit(X_train, y_train)\n",
        "print(\"Min-Max Accuracy:\", model_norm.score(X_test, y_test))\n",
        "\n",
        "# ------------------------------------------------------\n",
        "# Logistic Regression - Z-score\n",
        "# ------------------------------------------------------\n",
        "\n",
        "X_train, X_test, y_train, y_test = train_test_split(X_zscore, y, random_state=42)\n",
        "model_std = LogisticRegression(max_iter=200)\n",
        "model_std.fit(X_train, y_train)\n",
        "print(\"Z-score Accuracy:\", model_std.score(X_test, y_test))\n",
        "\n",
        "# ------------------------------------------------------\n",
        "#5.\tExplain in which scenarios normalization vs. standardization is preferable for deep learning.\n",
        "# ------------------------------------------------------\n",
        "\n",
        "#Normalization scales data between 0 and 1 and is best for image data or when all features need to be on the same scale.\n",
        "#Standardization centers data around 0 with unit variance, useful when data has outliers or different ranges.\n",
        "#Use Normalization for neural networks like CNNs, and Standardization for models like Logistic Regression or SVMs."
      ],
      "metadata": {
        "colab": {
          "base_uri": "https://localhost:8080/",
          "height": 448
        },
        "id": "e5AsG-Bw6v5F",
        "outputId": "3594e2fc-f8fc-4a4c-d523-81ff2fc60ae8"
      },
      "execution_count": 21,
      "outputs": [
        {
          "output_type": "display_data",
          "data": {
            "text/plain": [
              "<Figure size 1200x400 with 4 Axes>"
            ],
            "image/png": "[encoded data removed]"
          },
          "metadata": {}
        },
        {
          "output_type": "stream",
          "name": "stdout",
          "text": [
            "Raw Accuracy: 1.0\n",
            "Min-Max Accuracy: 0.9736842105263158\n",
            "Z-score Accuracy: 1.0\n"
          ]
        }
      ]
    }
  ]
}